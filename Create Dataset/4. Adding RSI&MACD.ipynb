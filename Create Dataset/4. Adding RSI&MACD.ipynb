{
 "cells": [
  {
   "cell_type": "code",
   "execution_count": 1,
   "metadata": {},
   "outputs": [],
   "source": [
    "import pandas as pd\n",
    "\n",
    "# Load the Parquet file\n",
    "parquet_file_path = 'snp_rsi_macd.parquet'\n",
    "data = pd.read_parquet(parquet_file_path)\n",
    "\n",
    "# Save to a CSV file\n",
    "csv_file_path = 'snp_rsi_macd.csv'\n",
    "data.to_csv(csv_file_path, index=False)"
   ]
  },
  {
   "cell_type": "code",
   "execution_count": 2,
   "metadata": {},
   "outputs": [],
   "source": [
    "import zipfile\n",
    "\n",
    "def compress_csv_zip(input_file, output_zip):\n",
    "    with zipfile.ZipFile(output_zip, 'w', zipfile.ZIP_DEFLATED) as zf:\n",
    "        zf.write(input_file, arcname=input_file)\n",
    "\n",
    "# Example usage\n",
    "compress_csv_zip('snp_rsi_macd.csv', 'snp_rsi_macd.zip')"
   ]
  },
  {
   "cell_type": "code",
   "execution_count": 3,
   "metadata": {},
   "outputs": [],
   "source": [
    "data = pd.read_csv('snp_rsi_macd.csv')"
   ]
  },
  {
   "cell_type": "code",
   "execution_count": 4,
   "metadata": {},
   "outputs": [
    {
     "name": "stdout",
     "output_type": "stream",
     "text": [
      "                             MACD        Signal  RSI\n",
      "2014-06-16 00:00:00 -5.616880e-62 -5.616880e-62  NaN\n",
      "2014-06-17 00:00:00  3.367288e-02  3.367288e-02  NaN\n",
      "2014-06-18 00:00:00  3.735695e-02  3.735695e-02  NaN\n",
      "2014-06-19 00:00:00  3.039524e-02  3.039524e-02  NaN\n",
      "2014-06-20 00:00:00  2.327547e-02  2.327547e-02  NaN\n"
     ]
    }
   ],
   "source": [
    "import pandas as pd\n",
    "import numpy as np\n",
    "\n",
    "# Helper functions\n",
    "def EMA(prices, span=12, adjust=False):\n",
    "    return prices.ewm(span=span, adjust=adjust).mean()\n",
    "\n",
    "def MACD(prices, span1=12, span2=26, signal_span=9):\n",
    "    fast_ema = EMA(prices, span=span1)\n",
    "    slow_ema = EMA(prices, span=span2)\n",
    "    macd = fast_ema - slow_ema\n",
    "    signal = EMA(macd, span=signal_span)\n",
    "    return macd.iloc[-1], signal.iloc[-1]  # Return the last value for simplicity\n",
    "\n",
    "def RSI(prices, periods=14):\n",
    "    delta = prices.diff()\n",
    "    gain = (delta.where(delta > 0, 0)).rolling(window=periods).mean()\n",
    "    loss = (-delta.where(delta < 0, 0)).rolling(window=periods).mean()\n",
    "    rs = gain / loss\n",
    "    rsi = 100 - (100 / (1 + rs))\n",
    "    return rsi.iloc[-1]  # Return the last value for simplicity\n",
    "\n",
    "# Main function to process data and calculate indicators\n",
    "def calculate_indicators(data):\n",
    "    results = pd.DataFrame()\n",
    "    # Ensure data has only the price columns by filtering non-numeric columns\n",
    "    numeric_data = data.select_dtypes(include=[np.number])\n",
    "    # Calculate MACD and RSI\n",
    "    macd, signal = MACD(numeric_data)\n",
    "    rsi = RSI(numeric_data)\n",
    "    # Store results\n",
    "    results = pd.DataFrame({\n",
    "        'MACD': macd,\n",
    "        'Signal': signal,\n",
    "        'RSI': rsi\n",
    "    })\n",
    "    return results\n",
    "\n",
    "\n",
    "# Ensure 'Stock' column is the index if it exists in the columns\n",
    "if 'Stock' in data.columns:\n",
    "    data = data.set_index('Stock')\n",
    "elif 'Stock' not in data.index:\n",
    "    print(\"No 'Stock' column found, please check your DataFrame structure.\")\n",
    "\n",
    "# Calculate MACD and RSI\n",
    "indicator_results = calculate_indicators(data)\n",
    "\n",
    "# Display or inspect the results\n",
    "print(indicator_results.head())\n"
   ]
  },
  {
   "cell_type": "code",
   "execution_count": 5,
   "metadata": {},
   "outputs": [
    {
     "name": "stdout",
     "output_type": "stream",
     "text": [
      "  Stock                      Industry   Beta      MACD    Signal        RSI\n",
      "0     A        Diagnostics & Research  1.068 -3.767062 -2.842506  25.132294\n",
      "1   AAL                      Airlines  1.498 -0.724258 -0.682215  25.170934\n",
      "2  AAPL          Consumer Electronics  1.250  7.345075  5.599729  78.073405\n",
      "3  ABBV  Drug Manufacturers - General  0.582  1.336143  0.417622  63.985570\n",
      "4  ABNB               Travel Services  1.188 -1.365007 -1.966829  44.163364\n"
     ]
    }
   ],
   "source": [
    "import pandas as pd\n",
    "\n",
    "# Load your data\n",
    "data = pd.read_csv('snp_rsi_macd.csv')\n",
    "\n",
    "# Assuming the stock price columns are named as dates and the rest are metadata\n",
    "price_columns = data.filter(regex=r'\\d{4}-\\d{2}-\\d{2}').columns\n",
    "\n",
    "# Functions to compute MACD and RSI\n",
    "def compute_macd(data, fast_period=12, slow_period=26, signal_period=9):\n",
    "    fast_ema = data.ewm(span=fast_period, adjust=False).mean()\n",
    "    slow_ema = data.ewm(span=slow_period, adjust=False).mean()\n",
    "    macd_line = fast_ema - slow_ema\n",
    "    signal_line = macd_line.ewm(span=signal_period, adjust=False).mean()\n",
    "    return macd_line.iloc[-1], signal_line.iloc[-1]\n",
    "\n",
    "def compute_rsi(data, periods=14):\n",
    "    delta = data.diff()\n",
    "    gain = (delta.where(delta > 0, 0)).ewm(span=periods, adjust=False).mean()\n",
    "    loss = (-delta.where(delta < 0, 0)).ewm(span=periods, adjust=False).mean()\n",
    "    rs = gain / loss\n",
    "    return 100 - (100 / (1 + rs)).iloc[-1]\n",
    "\n",
    "# Calculate MACD and RSI for each stock\n",
    "macd = []\n",
    "signal = []\n",
    "rsi = []\n",
    "for index, row in data[price_columns].iterrows():\n",
    "    macd_value, signal_value = compute_macd(row)\n",
    "    rsi_value = compute_rsi(row)\n",
    "    macd.append(macd_value)\n",
    "    signal.append(signal_value)\n",
    "    rsi.append(rsi_value)\n",
    "\n",
    "# Add these values to the original dataframe\n",
    "data['MACD'] = macd\n",
    "data['Signal'] = signal\n",
    "data['RSI'] = rsi\n",
    "\n",
    "# Save the updated DataFrame to a new CSV file\n",
    "data.to_csv('snp_beta_macd_signal_rsi.csv', index=False)\n",
    "\n",
    "# Check the head of the updated DataFrame\n",
    "print(data[['Stock', 'Industry', 'Beta', 'MACD', 'Signal', 'RSI']].head())\n"
   ]
  },
  {
   "cell_type": "code",
   "execution_count": null,
   "metadata": {},
   "outputs": [],
   "source": [
    "import zipfile\n",
    "\n",
    "def compress_csv_zip(input_file, output_zip):\n",
    "    with zipfile.ZipFile(output_zip, 'w', zipfile.ZIP_DEFLATED) as zf:\n",
    "        zf.write(input_file, arcname=input_file)\n",
    "\n",
    "# Example usage\n",
    "compress_csv_zip('snp_beta_macd_signal_rsi.csv', 'snp_beta_macd_signal_rsi.zip')\n"
   ]
  }
 ],
 "metadata": {
  "kernelspec": {
   "display_name": "base",
   "language": "python",
   "name": "python3"
  },
  "language_info": {
   "codemirror_mode": {
    "name": "ipython",
    "version": 3
   },
   "file_extension": ".py",
   "mimetype": "text/x-python",
   "name": "python",
   "nbconvert_exporter": "python",
   "pygments_lexer": "ipython3",
   "version": "3.11.7"
  },
  "orig_nbformat": 4
 },
 "nbformat": 4,
 "nbformat_minor": 2
}
